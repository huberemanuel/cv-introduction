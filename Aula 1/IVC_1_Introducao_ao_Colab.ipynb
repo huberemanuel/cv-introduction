{
  "nbformat": 4,
  "nbformat_minor": 0,
  "metadata": {
    "colab": {
      "name": "IVC 1 - Introducao ao Colab.ipynb",
      "provenance": [],
      "collapsed_sections": [],
      "toc_visible": true
    },
    "kernelspec": {
      "name": "python3",
      "display_name": "Python 3"
    }
  },
  "cells": [
    {
      "cell_type": "markdown",
      "metadata": {
        "id": "Ezc1rUq5Q7FM"
      },
      "source": [
        "# Introdução ao Google Colaboratory\r\n",
        "\r\n",
        "Com o Google Colab você pode executar códigos em um ambiente virtual, sem a necessidade de instalação de novas bibliotecas no seu computador, além de possuir o acesso gratuito a GPUs e TPUs para treinar modelos de Machine Learning de forma mais rápida."
      ]
    },
    {
      "cell_type": "markdown",
      "metadata": {
        "id": "-x5fKHvWRw7H"
      },
      "source": [
        "# Como escrever código no Google Colab\r\n",
        "\r\n",
        "O Google Colab (Jupyter Notebook) é baseado em células e execução dessas células conforme o programador for executando-as. \r\n",
        "\r\n",
        "Para adicionar uma nova célular de código, basta clicar no botão **\"+ Código\"**"
      ]
    },
    {
      "cell_type": "code",
      "metadata": {
        "id": "8K7--A9uRl5a"
      },
      "source": [
        "print(\"Hello world!\")"
      ],
      "execution_count": null,
      "outputs": []
    },
    {
      "cell_type": "markdown",
      "metadata": {
        "id": "WLwrDi2CSW_W"
      },
      "source": [
        "O notebook funciona como um script Python que é executado por partes, pode receber inputs do usuário e mostrar saídas também.\r\n"
      ]
    },
    {
      "cell_type": "code",
      "metadata": {
        "id": "EMFqkctBSfJ4"
      },
      "source": [
        "user_name = input(\"Qual é o seu nome?\")\r\n",
        "print(f\"Bem-vindo {user_name}\")"
      ],
      "execution_count": null,
      "outputs": []
    },
    {
      "cell_type": "markdown",
      "metadata": {
        "id": "Xn5aXmZ1Stk0"
      },
      "source": [
        "> A ordem de execução das células **importa**. Se uma célula utiliza uma variável que ainda não foi criada por uma célula anterior, o usuário irá receber uma mensagem de erro."
      ]
    },
    {
      "cell_type": "code",
      "metadata": {
        "id": "Ox620mI2S6YK"
      },
      "source": [
        "a = 10 * len(user_name)"
      ],
      "execution_count": null,
      "outputs": []
    },
    {
      "cell_type": "code",
      "metadata": {
        "id": "RmhAToOJSpkr"
      },
      "source": [
        "print(a)"
      ],
      "execution_count": null,
      "outputs": []
    },
    {
      "cell_type": "markdown",
      "metadata": {
        "id": "vxdeK3rrSCmk"
      },
      "source": [
        "Atualmente o Google Colab possui suporte a Python 2, 3 e Swift. Durante o curso utilizaremos apenas Python 3"
      ]
    },
    {
      "cell_type": "markdown",
      "metadata": {
        "id": "oXE4zqT-TdmT"
      },
      "source": [
        "# Executar comandos de terminal no colab\r\n",
        "\r\n",
        "Podemos executar comandos de terminal utilizando o operador \"!\" no começo de cada linha de código, assim o Colab irá interpretar como um comando shell em vez de código python"
      ]
    },
    {
      "cell_type": "code",
      "metadata": {
        "id": "2mhTX7DxTt40"
      },
      "source": [
        "# Listar o diretório atual\r\n",
        "!ls"
      ],
      "execution_count": null,
      "outputs": []
    },
    {
      "cell_type": "code",
      "metadata": {
        "id": "r6HM_FnCTyVA"
      },
      "source": [
        "# Exibir qual o sistema operacional atual\r\n",
        "!cat /proc/version"
      ],
      "execution_count": null,
      "outputs": []
    },
    {
      "cell_type": "markdown",
      "metadata": {
        "id": "cmvlUF8gRtSD"
      },
      "source": [
        "# Escrever com Markdown\r\n",
        "\r\n",
        "Os notebooks funcionam como uma ótima ferramenta de documentação, onde o usuário além de poder executar códigos, também pode inserir textos formatados com a linguagem de marcação Markdown. Inclusive, este texto que você está lendo foi escrito em Markdown, clique duas vezes sobre o texto e entrará em modo de edição.\r\n",
        "\r\n",
        "O Markdown permite a adição de imagens, vídeos, GIFs e até mesmo código HTML.\r\n",
        "\r\n",
        "![Alt Text](https://media.giphy.com/media/26ufdipQqU2lhNA4g/giphy.gif)"
      ]
    },
    {
      "cell_type": "markdown",
      "metadata": {
        "id": "ovEOfl7ZU8A8"
      },
      "source": [
        "# Upload de arquivos\r\n",
        " \r\n",
        "Pelo menu esquerdo é possível acessar os arquivos que estão presentes no cluster, possibilitando a navegação de arquivos, upload e download.\r\n",
        "\r\n",
        "> Os arquivos permanecem presentes até a sessão ser encerrada. Eles não são persistidos! Lembre-se de salvar os arquivos de interesse após o uso da sessão."
      ]
    },
    {
      "cell_type": "code",
      "metadata": {
        "id": "wKNKDCcBUZJ4"
      },
      "source": [
        "!ls"
      ],
      "execution_count": null,
      "outputs": []
    },
    {
      "cell_type": "markdown",
      "metadata": {
        "id": "bxNLxFdGVvby"
      },
      "source": [
        "## Download de múltiplos arquivos ou de pastas\r\n",
        "\r\n",
        "A maneira mais simples é criar um arquivo zip contendo todos os arquivos, então realizar o download pelo botão no menu."
      ]
    },
    {
      "cell_type": "code",
      "metadata": {
        "id": "kFaEjFoOVRqy"
      },
      "source": [
        "!zip -r download.zip ."
      ],
      "execution_count": null,
      "outputs": []
    },
    {
      "cell_type": "markdown",
      "metadata": {
        "id": "eVaiMWaNWcci"
      },
      "source": [
        "# Magic commands\r\n",
        "\r\n",
        "Comandos mágicos trazem funcionalidades únicas ao notebooks (não funcionam em puro Python).\r\n",
        "\r\n",
        "Todo comando mágico inicia com o operador \"%\" no início de cada linha.\r\n",
        "\r\n",
        "O comando mágico `%timeit` mostra o tempo de execução de uma linha."
      ]
    },
    {
      "cell_type": "code",
      "metadata": {
        "id": "k22EkO-9WG6R"
      },
      "source": [
        "%timeit L = [n ** 2 for n in range(1000)]"
      ],
      "execution_count": null,
      "outputs": []
    },
    {
      "cell_type": "markdown",
      "metadata": {
        "id": "SxyvpL0FXAkD"
      },
      "source": [
        "Utilizando o comando mágico `%%timeit` é possível avaliar o tempo de execução de uma célula inteira"
      ]
    },
    {
      "cell_type": "code",
      "metadata": {
        "id": "5wIr_SnmWnwK"
      },
      "source": [
        "%%timeit\r\n",
        "A = [0] * 1000\r\n",
        "for i in range (1000):\r\n",
        "    A[i] = i ** 2"
      ],
      "execution_count": null,
      "outputs": []
    },
    {
      "cell_type": "markdown",
      "metadata": {
        "id": "9aqG6ZFkX1FM"
      },
      "source": [
        "Onde encontrar os comandos mágicos?"
      ]
    },
    {
      "cell_type": "code",
      "metadata": {
        "id": "WS9NuzmAXuqq"
      },
      "source": [
        "%magic"
      ],
      "execution_count": null,
      "outputs": []
    },
    {
      "cell_type": "markdown",
      "metadata": {
        "id": "VGewVsm9YvP2"
      },
      "source": [
        "Criar arquivos de texto ou scripts pelo Colab"
      ]
    },
    {
      "cell_type": "code",
      "metadata": {
        "id": "J_dGcPj2YYSd"
      },
      "source": [
        "%%file script.py\r\n",
        "\r\n",
        "user_name = \"name\"\r\n",
        "user_age = \"21\"\r\n",
        "filename = \"a.jpg\"\r\n",
        "\r\n",
        "print(f\"{user_name}, {user_age}, {filename}\")"
      ],
      "execution_count": null,
      "outputs": []
    },
    {
      "cell_type": "markdown",
      "metadata": {
        "id": "5VZBTgDKZem1"
      },
      "source": [
        "Executar script criado com o comando mágico `%run`. Também é possível executar com o comando `!python script.py`"
      ]
    },
    {
      "cell_type": "code",
      "metadata": {
        "id": "K4qov-75ZVrE"
      },
      "source": [
        "%run script.py"
      ],
      "execution_count": null,
      "outputs": []
    },
    {
      "cell_type": "markdown",
      "metadata": {
        "id": "KAbMpc2bZnOP"
      },
      "source": [
        "# Exercícios\r\n",
        "\r\n"
      ]
    },
    {
      "cell_type": "markdown",
      "metadata": {
        "id": "pKcvzZ3AZumA"
      },
      "source": [
        "## Exercício 1\r\n",
        "\r\n",
        "Receber o nome, a idade e o nome do arquivo que o você irá realizar o upload para o Colab (precisa ser de um arquivo existente).\r\n",
        "\r\n",
        "Exibir com o comando `print` o nome, a idade, se o arquivo existe e se existir, o caminho até o arquivo"
      ]
    },
    {
      "cell_type": "code",
      "metadata": {
        "id": "ZdBwyl0JZt1I"
      },
      "source": [
        "user_name = \"name\" # TODO: receber do usuário\r\n",
        "user_age = \"21\" # TODO: receber do usuário\r\n",
        "filename = \"a.jpg\" # TODO: receber do usuário\r\n",
        "\r\n",
        "# TODO: Verificar se o arquivo existe\r\n",
        "print(f\"{user_name}, {user_age}, O arquivo existe em: {filename}\")"
      ],
      "execution_count": null,
      "outputs": []
    },
    {
      "cell_type": "markdown",
      "metadata": {
        "id": "rmCD4ngyagoy"
      },
      "source": [
        "## Exercício 2\r\n",
        "\r\n",
        "Colocar o código da solução do exercício 1 em um arquivo com o comando mágico `%%file` e em seguida, executar com o comando mágico `%run`"
      ]
    },
    {
      "cell_type": "code",
      "metadata": {
        "id": "gFSJEmvRaf86"
      },
      "source": [
        "%%file script2.py\r\n"
      ],
      "execution_count": null,
      "outputs": []
    },
    {
      "cell_type": "code",
      "metadata": {
        "id": "B_3_Ty4cb5q0"
      },
      "source": [
        "%run script2.py"
      ],
      "execution_count": null,
      "outputs": []
    }
  ]
}