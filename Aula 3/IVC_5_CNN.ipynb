{
  "nbformat": 4,
  "nbformat_minor": 0,
  "metadata": {
    "colab": {
      "name": "TF2 CNN.ipynb",
      "provenance": [],
      "collapsed_sections": []
    },
    "kernelspec": {
      "name": "python3",
      "display_name": "Python 3"
    },
    "accelerator": "GPU"
  },
  "cells": [
    {
      "cell_type": "code",
      "metadata": {
        "id": "PPGbx5m4vT4N"
      },
      "source": [
        "import tensorflow as tf\n",
        "from tensorflow import keras\n",
        "from tensorflow.keras import layers\n",
        "from tensorflow.keras.datasets import mnist"
      ],
      "execution_count": 46,
      "outputs": []
    },
    {
      "cell_type": "markdown",
      "metadata": {
        "id": "6xxU-BbzUdq4"
      },
      "source": [
        "# Carregar dataset"
      ]
    },
    {
      "cell_type": "code",
      "metadata": {
        "id": "wmYHk1KlvoW5"
      },
      "source": [
        "(x_train, y_train), (x_test, y_test) = mnist.load_data()"
      ],
      "execution_count": 47,
      "outputs": []
    },
    {
      "cell_type": "code",
      "metadata": {
        "colab": {
          "base_uri": "https://localhost:8080/"
        },
        "id": "9F2zbcnSvzL_",
        "outputId": "da4c8a12-e713-4f1e-b6a6-4cde4f8aacbe"
      },
      "source": [
        "x_train.shape"
      ],
      "execution_count": 48,
      "outputs": [
        {
          "output_type": "execute_result",
          "data": {
            "text/plain": [
              "(60000, 28, 28)"
            ]
          },
          "metadata": {
            "tags": []
          },
          "execution_count": 48
        }
      ]
    },
    {
      "cell_type": "markdown",
      "metadata": {
        "id": "eQy5wILkUbB8"
      },
      "source": [
        "Normalização dos dados"
      ]
    },
    {
      "cell_type": "code",
      "metadata": {
        "id": "qUp_Qxs8wEQq"
      },
      "source": [
        "x_train = x_train.astype(\"float32\").reshape(-1, 28, 28, 1) / 255.0\n",
        "x_test = x_test.astype(\"float32\").reshape(-1, 28, 28, 1) / 255.0"
      ],
      "execution_count": 49,
      "outputs": []
    },
    {
      "cell_type": "code",
      "metadata": {
        "colab": {
          "base_uri": "https://localhost:8080/"
        },
        "id": "2eQyYfIqk3t8",
        "outputId": "4a04435f-877e-4648-b4cb-68804711f9a0"
      },
      "source": [
        "model = keras.Sequential([\r\n",
        "    layers.Conv2D(32, 3, activation=\"relu\"), \r\n",
        "    layers.MaxPooling2D(), \r\n",
        "    layers.Conv2D(64, 3, activation=\"relu\"),\r\n",
        "    layers.MaxPooling2D(),\r\n",
        "    layers.Flatten(), \r\n",
        "    layers.Dense(256, activation=\"relu\"),\r\n",
        "    layers.Dense(10, activation=\"softmax\")\r\n",
        "])\r\n",
        "\r\n",
        "model.compile(loss=keras.losses.SparseCategoricalCrossentropy(),\r\n",
        "    optimizer=\"adam\",\r\n",
        "    metrics=[\"accuracy\"]\r\n",
        ")\r\n",
        "\r\n",
        "model.fit(x_train, y_train, epochs=10, batch_size=32, verbose=2)\r\n",
        "model.evaluate(x_test, y_test, batch_size=32, verbose=2)"
      ],
      "execution_count": 52,
      "outputs": [
        {
          "output_type": "stream",
          "text": [
            "Epoch 1/10\n",
            "1875/1875 - 4s - loss: 0.1214 - accuracy: 0.9629\n",
            "Epoch 2/10\n",
            "1875/1875 - 4s - loss: 0.0399 - accuracy: 0.9880\n",
            "Epoch 3/10\n",
            "1875/1875 - 4s - loss: 0.0264 - accuracy: 0.9913\n",
            "Epoch 4/10\n",
            "1875/1875 - 4s - loss: 0.0176 - accuracy: 0.9944\n",
            "Epoch 5/10\n",
            "1875/1875 - 4s - loss: 0.0136 - accuracy: 0.9958\n",
            "Epoch 6/10\n",
            "1875/1875 - 4s - loss: 0.0112 - accuracy: 0.9962\n",
            "Epoch 7/10\n",
            "1875/1875 - 4s - loss: 0.0087 - accuracy: 0.9972\n",
            "Epoch 8/10\n",
            "1875/1875 - 4s - loss: 0.0081 - accuracy: 0.9974\n",
            "Epoch 9/10\n",
            "1875/1875 - 4s - loss: 0.0058 - accuracy: 0.9982\n",
            "Epoch 10/10\n",
            "1875/1875 - 4s - loss: 0.0056 - accuracy: 0.9981\n",
            "313/313 - 1s - loss: 0.0359 - accuracy: 0.9925\n"
          ],
          "name": "stdout"
        },
        {
          "output_type": "execute_result",
          "data": {
            "text/plain": [
              "[0.03591574728488922, 0.9925000071525574]"
            ]
          },
          "metadata": {
            "tags": []
          },
          "execution_count": 52
        }
      ]
    },
    {
      "cell_type": "code",
      "metadata": {
        "colab": {
          "base_uri": "https://localhost:8080/"
        },
        "id": "Cy4nFt0fk6yI",
        "outputId": "4f5b9680-d773-4df5-d0e4-f32b5e08559b"
      },
      "source": [
        "model.summary()"
      ],
      "execution_count": 53,
      "outputs": [
        {
          "output_type": "stream",
          "text": [
            "Model: \"sequential_16\"\n",
            "_________________________________________________________________\n",
            "Layer (type)                 Output Shape              Param #   \n",
            "=================================================================\n",
            "conv2d_41 (Conv2D)           (None, 26, 26, 32)        320       \n",
            "_________________________________________________________________\n",
            "max_pooling2d_33 (MaxPooling (None, 13, 13, 32)        0         \n",
            "_________________________________________________________________\n",
            "conv2d_42 (Conv2D)           (None, 11, 11, 64)        18496     \n",
            "_________________________________________________________________\n",
            "max_pooling2d_34 (MaxPooling (None, 5, 5, 64)          0         \n",
            "_________________________________________________________________\n",
            "flatten_16 (Flatten)         (None, 1600)              0         \n",
            "_________________________________________________________________\n",
            "dense_31 (Dense)             (None, 256)               409856    \n",
            "_________________________________________________________________\n",
            "dense_32 (Dense)             (None, 10)                2570      \n",
            "=================================================================\n",
            "Total params: 431,242\n",
            "Trainable params: 431,242\n",
            "Non-trainable params: 0\n",
            "_________________________________________________________________\n"
          ],
          "name": "stdout"
        }
      ]
    },
    {
      "cell_type": "code",
      "metadata": {
        "colab": {
          "base_uri": "https://localhost:8080/"
        },
        "id": "FL6I5rExk9M_",
        "outputId": "6860c2a5-c953-4f2b-c4e2-dc078c9d25d3"
      },
      "source": [
        "y_pred = model(x_test)\r\n",
        "y_pred = y_pred.numpy().argmax(axis=1)\r\n",
        "cf_matrix = tf.math.confusion_matrix(y_test, y_pred)\r\n",
        "\r\n",
        "cf_matrix"
      ],
      "execution_count": 61,
      "outputs": [
        {
          "output_type": "execute_result",
          "data": {
            "text/plain": [
              "<tf.Tensor: shape=(10, 10), dtype=int32, numpy=\n",
              "array([[ 975,    0,    0,    0,    0,    1,    1,    2,    1,    0],\n",
              "       [   0, 1129,    1,    1,    0,    0,    0,    2,    2,    0],\n",
              "       [   1,    0, 1029,    0,    0,    0,    0,    2,    0,    0],\n",
              "       [   0,    0,    0, 1001,    0,    5,    0,    2,    1,    1],\n",
              "       [   0,    0,    2,    0,  975,    0,    1,    0,    1,    3],\n",
              "       [   0,    0,    0,    4,    0,  887,    1,    0,    0,    0],\n",
              "       [   1,    2,    0,    0,    1,    4,  947,    0,    3,    0],\n",
              "       [   0,    1,    3,    0,    0,    1,    0, 1021,    0,    2],\n",
              "       [   2,    0,    0,    1,    0,    1,    0,    3,  967,    0],\n",
              "       [   1,    0,    0,    0,    5,    4,    1,    1,    3,  994]],\n",
              "      dtype=int32)>"
            ]
          },
          "metadata": {
            "tags": []
          },
          "execution_count": 61
        }
      ]
    },
    {
      "cell_type": "code",
      "metadata": {
        "colab": {
          "base_uri": "https://localhost:8080/",
          "height": 283
        },
        "id": "XzKxzaOsnMBo",
        "outputId": "7a8facc1-39b6-4f9b-a550-c2b081f53b14"
      },
      "source": [
        "import matplotlib.pyplot as plt\r\n",
        "\r\n",
        "i_check = []\r\n",
        "for i, (y_t, y_p) in enumerate(zip(y_test, y_pred)):\r\n",
        "    if y_t == 5 and y_p == 3:\r\n",
        "       i_check.append(i)\r\n",
        "\r\n",
        "image = x_test[i_check[2]].reshape((28, 28)) * 255\r\n",
        "plt.imshow(image , cmap=\"gray\")"
      ],
      "execution_count": 69,
      "outputs": [
        {
          "output_type": "execute_result",
          "data": {
            "text/plain": [
              "<matplotlib.image.AxesImage at 0x7f5867510470>"
            ]
          },
          "metadata": {
            "tags": []
          },
          "execution_count": 69
        },
        {
          "output_type": "display_data",
          "data": {
            "image/png": "[encoded data removed]",
            "text/plain": [
              "<Figure size 432x288 with 1 Axes>"
            ]
          },
          "metadata": {
            "tags": [],
            "needs_background": "light"
          }
        }
      ]
    },
    {
      "cell_type": "code",
      "metadata": {
        "colab": {
          "base_uri": "https://localhost:8080/"
        },
        "id": "CaO1stRYwNXZ",
        "outputId": "ee838245-40cd-487c-8a13-420a349304f5"
      },
      "source": [
        "model = keras.Sequential([\n",
        "    layers.Conv2D(64, 3, activation=\"relu\", kernel_initializer=\"he_uniform\"),\n",
        "    layers.Conv2D(64, 3, activation=\"relu\", kernel_initializer=\"he_uniform\"),\n",
        "    layers.MaxPooling2D(), \n",
        "    layers.BatchNormalization(),\n",
        "    layers.Conv2D(128, 3, activation=\"relu\", kernel_initializer=\"he_uniform\"),\n",
        "    layers.Conv2D(128, 3, activation=\"relu\", kernel_initializer=\"he_uniform\"),\n",
        "    layers.MaxPooling2D(),\n",
        "    layers.BatchNormalization(),\n",
        "    layers.Conv2D(256, 3, activation=\"relu\", kernel_initializer=\"he_uniform\"),\n",
        "    layers.MaxPooling2D(),\n",
        "    layers.Flatten(), \n",
        "    layers.BatchNormalization(),\n",
        "    layers.Dense(512, activation=\"relu\", kernel_initializer=\"he_uniform\"),\n",
        "    layers.Dense(10, activation=\"softmax\")\n",
        "])\n",
        "\n",
        "model.compile(loss=keras.losses.SparseCategoricalCrossentropy(),\n",
        "    optimizer=keras.optimizers.SGD(lr=0.01, momentum=0.9),\n",
        "    metrics=[\"accuracy\"]\n",
        ")\n",
        "\n",
        "model.fit(x_train, y_train, epochs=10, batch_size=32, verbose=2)\n",
        "model.evaluate(x_test, y_test, batch_size=32, verbose=2)"
      ],
      "execution_count": 74,
      "outputs": [
        {
          "output_type": "stream",
          "text": [
            "Epoch 1/10\n",
            "1875/1875 - 8s - loss: 0.0971 - accuracy: 0.9704\n",
            "Epoch 2/10\n",
            "1875/1875 - 8s - loss: 0.0338 - accuracy: 0.9895\n",
            "Epoch 3/10\n",
            "1875/1875 - 8s - loss: 0.0209 - accuracy: 0.9933\n",
            "Epoch 4/10\n",
            "1875/1875 - 8s - loss: 0.0141 - accuracy: 0.9955\n",
            "Epoch 5/10\n",
            "1875/1875 - 8s - loss: 0.0093 - accuracy: 0.9969\n",
            "Epoch 6/10\n",
            "1875/1875 - 8s - loss: 0.0069 - accuracy: 0.9977\n",
            "Epoch 7/10\n",
            "1875/1875 - 8s - loss: 0.0047 - accuracy: 0.9985\n",
            "Epoch 8/10\n",
            "1875/1875 - 8s - loss: 0.0037 - accuracy: 0.9989\n",
            "Epoch 9/10\n",
            "1875/1875 - 8s - loss: 0.0025 - accuracy: 0.9991\n",
            "Epoch 10/10\n",
            "1875/1875 - 8s - loss: 0.0018 - accuracy: 0.9995\n",
            "313/313 - 1s - loss: 0.0270 - accuracy: 0.9938\n"
          ],
          "name": "stdout"
        },
        {
          "output_type": "execute_result",
          "data": {
            "text/plain": [
              "[0.02703659050166607, 0.9937999844551086]"
            ]
          },
          "metadata": {
            "tags": []
          },
          "execution_count": 74
        }
      ]
    },
    {
      "cell_type": "code",
      "metadata": {
        "colab": {
          "base_uri": "https://localhost:8080/"
        },
        "id": "gYMKuuhvyj5h",
        "outputId": "23793c09-4c3a-4e86-871e-7b1a17d88fb3"
      },
      "source": [
        "model.summary()"
      ],
      "execution_count": 71,
      "outputs": [
        {
          "output_type": "stream",
          "text": [
            "Model: \"sequential_17\"\n",
            "_________________________________________________________________\n",
            "Layer (type)                 Output Shape              Param #   \n",
            "=================================================================\n",
            "conv2d_43 (Conv2D)           (None, 26, 26, 64)        640       \n",
            "_________________________________________________________________\n",
            "conv2d_44 (Conv2D)           (None, 24, 24, 64)        36928     \n",
            "_________________________________________________________________\n",
            "max_pooling2d_35 (MaxPooling (None, 12, 12, 64)        0         \n",
            "_________________________________________________________________\n",
            "batch_normalization_12 (Batc (None, 12, 12, 64)        256       \n",
            "_________________________________________________________________\n",
            "conv2d_45 (Conv2D)           (None, 10, 10, 128)       73856     \n",
            "_________________________________________________________________\n",
            "conv2d_46 (Conv2D)           (None, 8, 8, 128)         147584    \n",
            "_________________________________________________________________\n",
            "max_pooling2d_36 (MaxPooling (None, 4, 4, 128)         0         \n",
            "_________________________________________________________________\n",
            "batch_normalization_13 (Batc (None, 4, 4, 128)         512       \n",
            "_________________________________________________________________\n",
            "conv2d_47 (Conv2D)           (None, 2, 2, 256)         295168    \n",
            "_________________________________________________________________\n",
            "max_pooling2d_37 (MaxPooling (None, 1, 1, 256)         0         \n",
            "_________________________________________________________________\n",
            "flatten_17 (Flatten)         (None, 256)               0         \n",
            "_________________________________________________________________\n",
            "batch_normalization_14 (Batc (None, 256)               1024      \n",
            "_________________________________________________________________\n",
            "dense_33 (Dense)             (None, 512)               131584    \n",
            "_________________________________________________________________\n",
            "dense_34 (Dense)             (None, 10)                5130      \n",
            "=================================================================\n",
            "Total params: 692,682\n",
            "Trainable params: 691,786\n",
            "Non-trainable params: 896\n",
            "_________________________________________________________________\n"
          ],
          "name": "stdout"
        }
      ]
    },
    {
      "cell_type": "code",
      "metadata": {
        "colab": {
          "base_uri": "https://localhost:8080/"
        },
        "id": "NIvKL3WVn3RE",
        "outputId": "3e36e8af-3729-4932-9b91-536609febbd6"
      },
      "source": [
        "y_pred = model(x_test)\r\n",
        "y_pred = y_pred.numpy().argmax(axis=1)\r\n",
        "cf_matrix = tf.math.confusion_matrix(y_test, y_pred)\r\n",
        "\r\n",
        "cf_matrix"
      ],
      "execution_count": 75,
      "outputs": [
        {
          "output_type": "execute_result",
          "data": {
            "text/plain": [
              "<tf.Tensor: shape=(10, 10), dtype=int32, numpy=\n",
              "array([[ 977,    0,    0,    0,    0,    0,    1,    1,    1,    0],\n",
              "       [   0, 1135,    0,    0,    0,    0,    0,    0,    0,    0],\n",
              "       [   1,    1, 1022,    2,    1,    0,    1,    4,    0,    0],\n",
              "       [   0,    0,    0, 1009,    0,    1,    0,    0,    0,    0],\n",
              "       [   0,    0,    0,    0,  981,    0,    0,    0,    0,    1],\n",
              "       [   2,    0,    0,    6,    0,  882,    1,    1,    0,    0],\n",
              "       [   4,    3,    0,    0,    1,    1,  948,    0,    1,    0],\n",
              "       [   0,    3,    1,    0,    1,    0,    0, 1021,    1,    1],\n",
              "       [   0,    0,    0,    1,    0,    1,    0,    2,  969,    1],\n",
              "       [   0,    0,    0,    0,    7,    1,    0,    5,    2,  994]],\n",
              "      dtype=int32)>"
            ]
          },
          "metadata": {
            "tags": []
          },
          "execution_count": 75
        }
      ]
    },
    {
      "cell_type": "code",
      "metadata": {
        "colab": {
          "base_uri": "https://localhost:8080/",
          "height": 283
        },
        "id": "isIZpUgcn4Fu",
        "outputId": "7808f91f-8386-41fe-eee8-f35bb6cd7056"
      },
      "source": [
        "import matplotlib.pyplot as plt\r\n",
        "\r\n",
        "i_check = []\r\n",
        "for i, (y_t, y_p) in enumerate(zip(y_test, y_pred)):\r\n",
        "    if y_t == 9 and y_p == 4:\r\n",
        "       i_check.append(i)\r\n",
        "\r\n",
        "image = x_test[i_check[3]].reshape((28, 28)) * 255\r\n",
        "plt.imshow(image , cmap=\"gray\")"
      ],
      "execution_count": 79,
      "outputs": [
        {
          "output_type": "execute_result",
          "data": {
            "text/plain": [
              "<matplotlib.image.AxesImage at 0x7f550ef7d588>"
            ]
          },
          "metadata": {
            "tags": []
          },
          "execution_count": 79
        },
        {
          "output_type": "display_data",
          "data": {
            "image/png": "[encoded data removed]",
            "text/plain": [
              "<Figure size 432x288 with 1 Axes>"
            ]
          },
          "metadata": {
            "tags": [],
            "needs_background": "light"
          }
        }
      ]
    },
    {
      "cell_type": "markdown",
      "metadata": {
        "id": "N0abSwNfpUac"
      },
      "source": [
        "# Data augmentation\r\n",
        "\r\n",
        "Variar deslocamento"
      ]
    },
    {
      "cell_type": "code",
      "metadata": {
        "colab": {
          "base_uri": "https://localhost:8080/",
          "height": 268
        },
        "id": "ia606k1QpX4U",
        "outputId": "1cf82bc6-1bbb-4c34-ccb9-d8a9399d75ea"
      },
      "source": [
        "from keras.preprocessing.image import ImageDataGenerator\r\n",
        "\r\n",
        "shift = 0.2\r\n",
        "datagen = ImageDataGenerator(width_shift_range=shift, height_shift_range=shift)\r\n",
        "\r\n",
        "datagen.fit(x_train)\r\n",
        "\r\n",
        "for X_batch, y_batch in datagen.flow(x_train, y_train, batch_size=9):\r\n",
        "\tfor i in range(0, 9):\r\n",
        "\t\tplt.subplot(330 + 1 + i)\r\n",
        "\t\tplt.imshow(X_batch[i].reshape(28, 28), cmap=plt.get_cmap('gray'))\r\n",
        "\tplt.show()\r\n",
        "\tbreak"
      ],
      "execution_count": 83,
      "outputs": [
        {
          "output_type": "display_data",
          "data": {
            "image/png": "[encoded data removed]",
            "text/plain": [
              "<Figure size 432x288 with 9 Axes>"
            ]
          },
          "metadata": {
            "tags": [],
            "needs_background": "light"
          }
        }
      ]
    },
    {
      "cell_type": "markdown",
      "metadata": {
        "id": "343HFMdHqcJs"
      },
      "source": [
        "Variar rotação"
      ]
    },
    {
      "cell_type": "code",
      "metadata": {
        "colab": {
          "base_uri": "https://localhost:8080/",
          "height": 268
        },
        "id": "khr1ltLaqdXY",
        "outputId": "cd04992d-8c81-4c41-de54-f62c79fa6a99"
      },
      "source": [
        "datagen = ImageDataGenerator(rotation_range=90)\r\n",
        "\r\n",
        "datagen.fit(x_train)\r\n",
        "\r\n",
        "for X_batch, y_batch in datagen.flow(x_train, y_train, batch_size=9):\r\n",
        "\tfor i in range(0, 9):\r\n",
        "\t\tplt.subplot(330 + 1 + i)\r\n",
        "\t\tplt.imshow(X_batch[i].reshape(28, 28), cmap=plt.get_cmap('gray'))\r\n",
        "\tplt.show()\r\n",
        "\tbreak"
      ],
      "execution_count": 84,
      "outputs": [
        {
          "output_type": "display_data",
          "data": {
            "image/png": "[encoded data removed]",
            "text/plain": [
              "<Figure size 432x288 with 9 Axes>"
            ]
          },
          "metadata": {
            "tags": [],
            "needs_background": "light"
          }
        }
      ]
    },
    {
      "cell_type": "markdown",
      "metadata": {
        "id": "P1jh9iG6qit9"
      },
      "source": [
        "Inverter imagem verticalmente ou horizontalmente"
      ]
    },
    {
      "cell_type": "code",
      "metadata": {
        "colab": {
          "base_uri": "https://localhost:8080/",
          "height": 268
        },
        "id": "5Ox-rh-rqiT5",
        "outputId": "d5116ed0-dc7d-4336-def5-9aef2c2f97e3"
      },
      "source": [
        "datagen = ImageDataGenerator(horizontal_flip=True, vertical_flip=True)\r\n",
        "\r\n",
        "datagen.fit(x_train)\r\n",
        "\r\n",
        "for X_batch, y_batch in datagen.flow(x_train, y_train, batch_size=9):\r\n",
        "\tfor i in range(0, 9):\r\n",
        "\t\tplt.subplot(330 + 1 + i)\r\n",
        "\t\tplt.imshow(X_batch[i].reshape(28, 28), cmap=plt.get_cmap('gray'))\r\n",
        "\tplt.show()\r\n",
        "\tbreak"
      ],
      "execution_count": 85,
      "outputs": [
        {
          "output_type": "display_data",
          "data": {
            "image/png": "[encoded data removed]",
            "text/plain": [
              "<Figure size 432x288 with 9 Axes>"
            ]
          },
          "metadata": {
            "tags": [],
            "needs_background": "light"
          }
        }
      ]
    },
    {
      "cell_type": "markdown",
      "metadata": {
        "id": "-uDAiSyLrGPY"
      },
      "source": [
        "Treinamento com dataset aumentado"
      ]
    },
    {
      "cell_type": "code",
      "metadata": {
        "colab": {
          "base_uri": "https://localhost:8080/"
        },
        "id": "v3MmcjyRrI5p",
        "outputId": "e0f1c0cf-52f1-4b10-c229-12e6614e0ec0"
      },
      "source": [
        "model = keras.Sequential([\r\n",
        "    layers.Conv2D(32, 3, activation=\"relu\"), \r\n",
        "    layers.MaxPooling2D(), \r\n",
        "    layers.Conv2D(64, 3, activation=\"relu\"),\r\n",
        "    layers.MaxPooling2D(),\r\n",
        "    layers.Flatten(), \r\n",
        "    layers.Dense(256, activation=\"relu\"),\r\n",
        "    layers.Dense(10, activation=\"softmax\")\r\n",
        "])\r\n",
        "\r\n",
        "model.compile(loss=keras.losses.SparseCategoricalCrossentropy(),\r\n",
        "    optimizer=\"adam\",\r\n",
        "    metrics=[\"accuracy\"]\r\n",
        ")\r\n",
        "\r\n",
        "shift = 0.2\r\n",
        "datagen = ImageDataGenerator(horizontal_flip=True, \r\n",
        "                             vertical_flip=True,\r\n",
        "                             rotation_range=90,\r\n",
        "                             width_shift_range=shift, \r\n",
        "                             height_shift_range=shift)\r\n",
        "\r\n",
        "datagen.fit(x_train)\r\n",
        "\r\n",
        "# for X_batch, y_batch in datagen.flow(x_train, y_train, batch_size=9):\r\n",
        "model.fit(datagen.flow(x_train, y_train, batch_size=32),\r\n",
        "          steps_per_epoch=len(x_train) / 32, epochs=10, verbose=2)\r\n",
        "model.evaluate(x_test, y_test, batch_size=32, verbose=2)"
      ],
      "execution_count": 89,
      "outputs": [
        {
          "output_type": "stream",
          "text": [
            "Epoch 1/10\n",
            "1875/1875 - 14s - loss: 1.2868 - accuracy: 0.5462\n",
            "Epoch 2/10\n",
            "1875/1875 - 14s - loss: 0.7338 - accuracy: 0.7573\n",
            "Epoch 3/10\n",
            "1875/1875 - 14s - loss: 0.5690 - accuracy: 0.8150\n",
            "Epoch 4/10\n",
            "1875/1875 - 14s - loss: 0.4995 - accuracy: 0.8347\n",
            "Epoch 5/10\n",
            "1875/1875 - 14s - loss: 0.4578 - accuracy: 0.8493\n",
            "Epoch 6/10\n",
            "1875/1875 - 14s - loss: 0.4257 - accuracy: 0.8597\n",
            "Epoch 7/10\n",
            "1875/1875 - 14s - loss: 0.4073 - accuracy: 0.8641\n",
            "Epoch 8/10\n",
            "1875/1875 - 14s - loss: 0.3944 - accuracy: 0.8684\n",
            "Epoch 9/10\n",
            "1875/1875 - 14s - loss: 0.3827 - accuracy: 0.8724\n",
            "Epoch 10/10\n",
            "1875/1875 - 14s - loss: 0.3739 - accuracy: 0.8760\n",
            "313/313 - 1s - loss: 0.3230 - accuracy: 0.8925\n"
          ],
          "name": "stdout"
        },
        {
          "output_type": "execute_result",
          "data": {
            "text/plain": [
              "[0.3230091631412506, 0.8924999833106995]"
            ]
          },
          "metadata": {
            "tags": []
          },
          "execution_count": 89
        }
      ]
    },
    {
      "cell_type": "markdown",
      "metadata": {
        "id": "R9tYn0XAZUn9"
      },
      "source": [
        "Busca por parâmetros em CNN no MNIST: https://www.kaggle.com/cdeotte/how-to-choose-cnn-architecture-mnist"
      ]
    },
    {
      "cell_type": "markdown",
      "metadata": {
        "id": "FsrAQpE5q3AL"
      },
      "source": [
        "# Exercício\r\n",
        "\r\n",
        "Experimentar com os diferentes parâmetros, números de neurônios, técnicas de data augmentation até atingir o melhor resultado possível no conjunto de dados de teste."
      ]
    },
    {
      "cell_type": "code",
      "metadata": {
        "id": "9FSx0Hx_q4By"
      },
      "source": [
        ""
      ],
      "execution_count": null,
      "outputs": []
    }
  ]
}